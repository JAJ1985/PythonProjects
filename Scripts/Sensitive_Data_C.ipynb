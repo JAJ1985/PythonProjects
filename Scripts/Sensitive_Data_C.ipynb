{
 "cells": [
  {
   "cell_type": "markdown",
   "metadata": {},
   "source": [
    "                                                                                                            Sensitive Data Check"
   ]
  },
  {
   "cell_type": "markdown",
   "metadata": {},
   "source": [
    "Importing the libraries"
   ]
  },
  {
   "cell_type": "code",
   "execution_count": null,
   "metadata": {},
   "outputs": [],
   "source": [
    "import re\n",
    "import mimetypes\n",
    "import pytesseract\n",
    "#import csv\n",
    "from PIL import Image"
   ]
  },
  {
   "cell_type": "markdown",
   "metadata": {},
   "source": [
    "Defining a list of sensitive data patterens"
   ]
  },
  {
   "cell_type": "code",
   "execution_count": null,
   "metadata": {},
   "outputs": [],
   "source": [
    "sensitive_patterns = [\n",
    "    r'\\b\\d{3}-\\d{2}-\\d{4}\\b',                               # Social Security Number (SSN) pattern\n",
    "    r'\\b(?:\\d{4}-?){3}\\d{4}\\b',                             # Credit card number pattern\n",
    "    r'\\b(?:\\d{4}-?){2}\\d{4}-?\\d{4}\\b',                      # Additional credit card number pattern\n",
    "    r'\\b(?:\\d{4}\\s?){4}\\b',                                 # Another credit card number pattern\n",
    "    r'\\b[A-Za-z0-9._%+-]+@[A-Za-z0-9.-]+\\.[A-Za-z]{2,}\\b',  # Email address pattern\n",
    "    r'\\b\\d{10}\\b'                                           # Phone number pattern (10 digits)\n",
    "]"
   ]
  },
  {
   "cell_type": "markdown",
   "metadata": {},
   "source": [
    "Function to scan text for sensitive data patterns"
   ]
  },
  {
   "cell_type": "code",
   "execution_count": null,
   "metadata": {},
   "outputs": [],
   "source": [
    "def scan_text(text):\n",
    "    matches = []\n",
    "    for pattern in sensitive_patterns:\n",
    "        matches.extend(re.findall(pattern, text))\n",
    "    return matches"
   ]
  },
  {
   "cell_type": "markdown",
   "metadata": {},
   "source": [
    "Function to analyze a file for sensitive data and file type"
   ]
  },
  {
   "cell_type": "code",
   "execution_count": null,
   "metadata": {},
   "outputs": [],
   "source": [
    "def analyze_file(file_path):\n",
    "    file_type = detect_file_type(file_path)\n",
    "    if file_type.startswith('image'):\n",
    "        text = extract_text_from_image(file_path)\n",
    "        if text is None:\n",
    "            print('Failed to extract text from the image.')\n",
    "            return\n",
    "    elif file_type.startswith('text'):\n",
    "        text = extract_text_from_text_file(file_path)\n",
    "    else:\n",
    "        print(f'Usupported file type: {file_type}')\n",
    "        return\n",
    "    \n",
    "    matches = scan_text(text)\n",
    "\n",
    "    if matches:\n",
    "        print(f\"Sensitive data found in file: {file_path}\")\n",
    "        print(\"Matches:\", matches)\n",
    "        text = mask_sensitive_data(text, matches)\n",
    "        print(\"Masked Text:\")\n",
    "        print(text)\n",
    "    else:\n",
    "        print(f\"No sensitive data found in file: {file_path}\")\n",
    "\n",
    "    print(\"File Type:\", file_type)"
   ]
  }
 ],
 "metadata": {
  "language_info": {
   "name": "python"
  }
 },
 "nbformat": 4,
 "nbformat_minor": 2
}
