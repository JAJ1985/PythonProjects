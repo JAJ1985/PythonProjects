{
 "cells": [
  {
   "cell_type": "markdown",
   "id": "02b202e7",
   "metadata": {},
   "source": [
    "# Python - Sorting Algorythms"
   ]
  },
  {
   "cell_type": "markdown",
   "id": "a9620d76",
   "metadata": {},
   "source": [
    "## Bubble Sort - This is a comparison-based algorithm in which each pair of adjacent elements are swapped if they are not in order."
   ]
  },
  {
   "cell_type": "markdown",
   "id": "cab763be",
   "metadata": {},
   "source": [
    "### Example"
   ]
  },
  {
   "cell_type": "code",
   "execution_count": null,
   "id": "b083a053",
   "metadata": {},
   "outputs": [],
   "source": [
    "def bubblesort(list):\n",
    "\n",
    "# Swap the elements to arrange in order\n",
    "    for iter_num in range(len(list)-1,0,-1):\n",
    "        for idx in range (iter_num):\n",
    "            if list[idx]>list[idx+1]:\n",
    "                temp = list[idx]\n",
    "                list[idx] = list[idx+1]\n",
    "                list[idx+1] = temp\n",
    "list = [19,2,31,45,6,11,121,27]\n",
    "bubblesort(list)\n",
    "print(list)"
   ]
  },
  {
   "cell_type": "markdown",
   "id": "e5832e26",
   "metadata": {},
   "source": [
    "Output:\n",
    "When the above code is executed, it produces the following result:\n",
    "\n",
    "[2, 6, 11, 19, 27, 31, 45, 121]"
   ]
  },
  {
   "cell_type": "markdown",
   "id": "b94e2ae2",
   "metadata": {},
   "source": [
    "## Merge Sort - this first divides the array into equal halves and then combines them in sorted manner."
   ]
  },
  {
   "cell_type": "markdown",
   "id": "fedb45ae",
   "metadata": {},
   "source": [
    "### Example"
   ]
  },
  {
   "cell_type": "code",
   "execution_count": 1,
   "id": "47c6988a",
   "metadata": {},
   "outputs": [],
   "source": [
    "def merge_sort(unsorted_list):\n",
    "    if len(unsorted_list) <= 1:\n",
    "        return unsorted_list\n",
    "# Find the middle point and devide it\n",
    "    middle = len(unsorted_list) // 2\n",
    "    left_list = unsorted_list[:middle]\n",
    "    right_list = unsorted_list[middle:]\n",
    "    \n",
    "    left_list = merge_sort(left_list)\n",
    "    right_list = merge_sort(right_list)\n",
    "    return list(merge(left_list, right_list))\n",
    "\n",
    "# Merge the sorted halves\n",
    "def merge(left_helf, right_half):\n",
    "    red = []\n",
    "    while len(left_half) != 0 and len(right_half) != 0:\n",
    "        if left_half[0] < right_half[0]:\n",
    "            res.append(left_half[0])\n",
    "            left_half.remove(left_half[0])\n",
    "        else:\n",
    "            res.apppend(right_half[0])\n",
    "            right_half.remove(right_half[0])\n",
    "        if len(left_half) == 0:\n",
    "            res = res + right_half\n",
    "        else:\n",
    "            re = res + left_half\n",
    "        return res\n",
    "unsorted_list = [64, 34, 25, 12, 22, 11, 90]"
   ]
  },
  {
   "cell_type": "markdown",
   "id": "1eec173f",
   "metadata": {},
   "source": [
    "### Output\n",
    "When the code above is executed, it produces the following result:"
   ]
  }
 ],
 "metadata": {
  "kernelspec": {
   "display_name": "Python 3 (ipykernel)",
   "language": "python",
   "name": "python3"
  },
  "language_info": {
   "codemirror_mode": {
    "name": "ipython",
    "version": 3
   },
   "file_extension": ".py",
   "mimetype": "text/x-python",
   "name": "python",
   "nbconvert_exporter": "python",
   "pygments_lexer": "ipython3",
   "version": "3.9.7"
  }
 },
 "nbformat": 4,
 "nbformat_minor": 5
}
