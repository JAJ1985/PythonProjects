{
 "cells": [
  {
   "cell_type": "markdown",
   "id": "5c055b0b",
   "metadata": {},
   "source": [
    "## Using Text Parameter"
   ]
  },
  {
   "cell_type": "markdown",
   "id": "24f5ccf1",
   "metadata": {},
   "source": [
    "Installs"
   ]
  },
  {
   "cell_type": "code",
   "execution_count": null,
   "id": "e191716f",
   "metadata": {},
   "outputs": [],
   "source": [
    "'''\n",
    "!pip install pii-codex==0.4.3\n",
    "!pip install spacy\n",
    "'''\n",
    "!pip install presidio_analyzer"
   ]
  },
  {
   "cell_type": "markdown",
   "id": "88fe350d",
   "metadata": {},
   "source": [
    "Imports"
   ]
  },
  {
   "cell_type": "code",
   "execution_count": null,
   "id": "fba4417a",
   "metadata": {
    "scrolled": true
   },
   "outputs": [],
   "source": [
    "from pii_codex.services.analysis_service import PIIAnalysisService\n",
    "import spacy\n",
    "from presidio_analyzer import AnalyzerEngine"
   ]
  },
  {
   "cell_type": "code",
   "execution_count": null,
   "id": "9833737e",
   "metadata": {},
   "outputs": [],
   "source": [
    "results = PIIAnalysisService().analyze_collection(\n",
    "    texts=[ \"email@example.com is the email I can be reached at.\", \n",
    "           \"Their number is 555-555-5555\"])"
   ]
  },
  {
   "cell_type": "markdown",
   "id": "a7757fcf",
   "metadata": {},
   "source": [
    "## Using the data parameter with metadata support for socila media analysis"
   ]
  },
  {
   "cell_type": "markdown",
   "id": "62cce062",
   "metadata": {},
   "source": [
    "Imports"
   ]
  },
  {
   "cell_type": "code",
   "execution_count": null,
   "id": "03368baf",
   "metadata": {},
   "outputs": [],
   "source": [
    "import pandas as pd\n",
    "from pii_codex.services.analysis_service import PIIAnalysisService"
   ]
  },
  {
   "cell_type": "code",
   "execution_count": null,
   "id": "289b79a7",
   "metadata": {},
   "outputs": [],
   "source": [
    "results = PIIAnalysisService().analyze_collection(\n",
    "    data=pd.DataFrame.from_dict({\n",
    "        \"text\": [\n",
    "                \"email@example.com is the email I can be reached at.\",\n",
    "                \"Their number is 555-555-5555\"\n",
    "],\n",
    "\"metadata\": [\n",
    "    {\"location\": True, \"url\": False, \"screen_name\": True},\n",
    "    {\"location\": False, \"url\": False, \"screen_name\": True}\n",
    "]\n",
    "}),\n",
    "collection_name=\"Social Media Example\",\n",
    "collection_type=\"SAMPLE\"\n",
    ")"
   ]
  }
 ],
 "metadata": {
  "kernelspec": {
   "display_name": "Python 3 (ipykernel)",
   "language": "python",
   "name": "python3"
  },
  "language_info": {
   "codemirror_mode": {
    "name": "ipython",
    "version": 3
   },
   "file_extension": ".py",
   "mimetype": "text/x-python",
   "name": "python",
   "nbconvert_exporter": "python",
   "pygments_lexer": "ipython3",
   "version": "3.10.9"
  }
 },
 "nbformat": 4,
 "nbformat_minor": 5
}
