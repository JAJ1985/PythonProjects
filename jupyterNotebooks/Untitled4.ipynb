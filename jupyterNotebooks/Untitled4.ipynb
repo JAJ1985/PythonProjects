{
 "cells": [
  {
   "cell_type": "code",
   "execution_count": 5,
   "id": "998d39fa",
   "metadata": {},
   "outputs": [
    {
     "name": "stdout",
     "output_type": "stream",
     "text": [
      "zGZW;UD[/MJTnXvR\n"
     ]
    }
   ],
   "source": [
    "from lib2to3.pygram import Symbols\n",
    "\n",
    "import numbers\n",
    "import random\n",
    "\n",
    "lower = \"abcdefghijklmnopqrstuvwxyz\"\n",
    "upper = \"ABCDEFGHIJKLMNOPQRZTUVWXYZ\"\n",
    "numbers = \"0123456789\"\n",
    "symbols = \"[]{}()*;/,.@$\"\n",
    "\n",
    "all = lower + upper + symbols\n",
    "length = 16\n",
    "password = \"\".join(random.sample(all,length))\n",
    "print(password)"
   ]
  }
 ],
 "metadata": {
  "kernelspec": {
   "display_name": "Python 3 (ipykernel)",
   "language": "python",
   "name": "python3"
  },
  "language_info": {
   "codemirror_mode": {
    "name": "ipython",
    "version": 3
   },
   "file_extension": ".py",
   "mimetype": "text/x-python",
   "name": "python",
   "nbconvert_exporter": "python",
   "pygments_lexer": "ipython3",
   "version": "3.9.7"
  }
 },
 "nbformat": 4,
 "nbformat_minor": 5
}
